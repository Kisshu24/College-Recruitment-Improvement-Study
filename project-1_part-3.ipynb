{
 "cells": [
  {
   "cell_type": "markdown",
   "id": "7c0e32b0-9be3-40cb-956b-65e58548c98a",
   "metadata": {},
   "source": [
    "# Name : Kishan Prajapati\n",
    "# Date : 26th Feb 2025"
   ]
  },
  {
   "cell_type": "markdown",
   "id": "47a4084a-5241-4785-8a9e-3d509d35f7af",
   "metadata": {},
   "source": [
    "## project-1 part-3"
   ]
  },
  {
   "cell_type": "markdown",
   "id": "630bf9f7-8283-420f-ab12-ebfc1a9784f8",
   "metadata": {},
   "source": [
    "## Imported the Pandas library"
   ]
  },
  {
   "cell_type": "code",
   "execution_count": 4,
   "id": "13112097-1eca-4dad-b743-011fb90a41dc",
   "metadata": {},
   "outputs": [],
   "source": [
    "import pandas as pd\n",
    "import matplotlib.pyplot as plt\n",
    "import numpy as np"
   ]
  },
  {
   "cell_type": "markdown",
   "id": "aebf0058-d5b4-4ba7-af86-fd10bdfabc52",
   "metadata": {},
   "source": [
    "## Imports the csv file into a dataframe"
   ]
  },
  {
   "cell_type": "code",
   "execution_count": 6,
   "id": "888525ec-d7f5-464c-894f-aee17104e648",
   "metadata": {},
   "outputs": [],
   "source": [
    "n = pd.read_csv(\"D:/SPRING-2025/CMP-262-DATA-SCIENCE-PROGRAMMING/New folder (2)/Non-Major.csv\")"
   ]
  },
  {
   "cell_type": "markdown",
   "id": "34b437e3-68f8-4acd-8b1e-8b09ed329d47",
   "metadata": {
    "collapsed": true,
    "jupyter": {
     "outputs_hidden": true
    }
   },
   "source": [
    "# Questions To Answer"
   ]
  },
  {
   "cell_type": "markdown",
   "id": "9026c448-eb2d-4897-a007-a46d5b7f7242",
   "metadata": {},
   "source": [
    "## 1.\tWhich advertisement methods have the lowest yield?"
   ]
  },
  {
   "cell_type": "markdown",
   "id": "0b5618ae-1083-4dfc-a3af-8a68262d9d01",
   "metadata": {},
   "source": [
    "### For this question I will create a new data set that is a subset of the given set. it will be 'q1' \n",
    "#### The columns to use => 'How did you hear about County College of Morris  [CCM Web site]',\n",
    "       'How did you hear about County College of Morris  [Billboard]',\n",
    "       'How did you hear about County College of Morris  [Television]',\n",
    "       'How did you hear about County College of Morris  [Radio]',\n",
    "       'How did you hear about County College of Morris  [Social Media]',\n",
    "       'How did you hear about County College of Morris  [Community Event]',\n",
    "       'How did you hear about County College of Morris  [Family member or friend]',\n",
    "       'How did you hear about County College of Morris  [Employer]',\n",
    "       'How did you hear about County College of Morris  [Current student]',\n",
    "       'How did you hear about County College of Morris  [Alumni]',\n",
    "       'How did you hear about County College of Morris  [High School]',"
   ]
  },
  {
   "cell_type": "code",
   "execution_count": 10,
   "id": "f3163ff7-a2d0-47dc-b249-08094b1edc4a",
   "metadata": {},
   "outputs": [],
   "source": [
    "q1 = n[['How did you hear about County College of Morris  [CCM Web site]',\n",
    "       'How did you hear about County College of Morris  [Billboard]',\n",
    "       'How did you hear about County College of Morris  [Television]',\n",
    "       'How did you hear about County College of Morris  [Radio]',\n",
    "       'How did you hear about County College of Morris  [Social Media]',\n",
    "       'How did you hear about County College of Morris  [Community Event]',\n",
    "       'How did you hear about County College of Morris  [Family member or friend]',\n",
    "       'How did you hear about County College of Morris  [Employer]',\n",
    "       'How did you hear about County College of Morris  [Current student]',\n",
    "       'How did you hear about County College of Morris  [Alumni]',\n",
    "       'How did you hear about County College of Morris  [High School]',]]"
   ]
  },
  {
   "cell_type": "markdown",
   "id": "2017c7ec-7bd4-448d-a133-42a8609e8d31",
   "metadata": {},
   "source": [
    "### this shows the column names for the dataset"
   ]
  },
  {
   "cell_type": "code",
   "execution_count": 12,
   "id": "dbacb191-8227-4f35-81bb-e56b0b2ec85b",
   "metadata": {},
   "outputs": [
    {
     "data": {
      "text/plain": [
       "Index(['How did you hear about County College of Morris  [CCM Web site]',\n",
       "       'How did you hear about County College of Morris  [Billboard]',\n",
       "       'How did you hear about County College of Morris  [Television]',\n",
       "       'How did you hear about County College of Morris  [Radio]',\n",
       "       'How did you hear about County College of Morris  [Social Media]',\n",
       "       'How did you hear about County College of Morris  [Community Event]',\n",
       "       'How did you hear about County College of Morris  [Family member or friend]',\n",
       "       'How did you hear about County College of Morris  [Employer]',\n",
       "       'How did you hear about County College of Morris  [Current student]',\n",
       "       'How did you hear about County College of Morris  [Alumni]',\n",
       "       'How did you hear about County College of Morris  [High School]'],\n",
       "      dtype='object')"
      ]
     },
     "execution_count": 12,
     "metadata": {},
     "output_type": "execute_result"
    }
   ],
   "source": [
    "q1.columns"
   ]
  },
  {
   "cell_type": "markdown",
   "id": "a0b585bd-9415-4ff7-8bef-867d5fe2069f",
   "metadata": {},
   "source": [
    "### Renaming the column names as they are too long to understand\n",
    "### Keeping only the values that are inside the []"
   ]
  },
  {
   "cell_type": "code",
   "execution_count": 14,
   "id": "213a98fc-21be-476c-85f5-1d91296a211d",
   "metadata": {},
   "outputs": [],
   "source": [
    "q1 = q1.rename(columns = {\n",
    "    'How did you hear about County College of Morris  [CCM Web site]':'CCM Web site' ,\n",
    "    'How did you hear about County College of Morris  [Billboard]' : 'Billboard',\n",
    "    'How did you hear about County College of Morris  [Television]' : 'Television',\n",
    "    'How did you hear about County College of Morris  [Radio]' : 'Radio',\n",
    "    'How did you hear about County College of Morris  [Social Media]' : 'Social Media',\n",
    "    'How did you hear about County College of Morris  [Community Event]' : 'Community Event',\n",
    "    'How did you hear about County College of Morris  [Family member or friend]' : 'Family member or Friend',\n",
    "    'How did you hear about County College of Morris  [Employer]' : 'Employer',\n",
    "    'How did you hear about County College of Morris  [Current student]' : 'Current Student',\n",
    "    'How did you hear about County College of Morris  [Alumni]' : 'Alumini',\n",
    "    'How did you hear about County College of Morris  [High School]' : 'High School'\n",
    "})"
   ]
  },
  {
   "cell_type": "markdown",
   "id": "0fa7d7cb-70ed-4a4b-a782-19fb9a971f72",
   "metadata": {},
   "source": [
    "##### Shows the new column names"
   ]
  },
  {
   "cell_type": "code",
   "execution_count": 16,
   "id": "b2a0d451-dd48-4fd7-b521-698d1214fa03",
   "metadata": {
    "scrolled": true
   },
   "outputs": [
    {
     "data": {
      "text/plain": [
       "Index(['CCM Web site', 'Billboard', 'Television', 'Radio', 'Social Media',\n",
       "       'Community Event', 'Family member or Friend', 'Employer',\n",
       "       'Current Student', 'Alumini', 'High School'],\n",
       "      dtype='object')"
      ]
     },
     "execution_count": 16,
     "metadata": {},
     "output_type": "execute_result"
    }
   ],
   "source": [
    "q1.columns"
   ]
  },
  {
   "cell_type": "code",
   "execution_count": 17,
   "id": "5d249c3c-844e-4ae7-8be8-2baa1f43746b",
   "metadata": {},
   "outputs": [
    {
     "data": {
      "text/html": [
       "<div>\n",
       "<style scoped>\n",
       "    .dataframe tbody tr th:only-of-type {\n",
       "        vertical-align: middle;\n",
       "    }\n",
       "\n",
       "    .dataframe tbody tr th {\n",
       "        vertical-align: top;\n",
       "    }\n",
       "\n",
       "    .dataframe thead th {\n",
       "        text-align: right;\n",
       "    }\n",
       "</style>\n",
       "<table border=\"1\" class=\"dataframe\">\n",
       "  <thead>\n",
       "    <tr style=\"text-align: right;\">\n",
       "      <th></th>\n",
       "      <th>CCM Web site</th>\n",
       "      <th>Billboard</th>\n",
       "      <th>Television</th>\n",
       "      <th>Radio</th>\n",
       "      <th>Social Media</th>\n",
       "      <th>Community Event</th>\n",
       "      <th>Family member or Friend</th>\n",
       "      <th>Employer</th>\n",
       "      <th>Current Student</th>\n",
       "      <th>Alumini</th>\n",
       "      <th>High School</th>\n",
       "    </tr>\n",
       "  </thead>\n",
       "  <tbody>\n",
       "    <tr>\n",
       "      <th>No</th>\n",
       "      <td>54</td>\n",
       "      <td>84</td>\n",
       "      <td>91</td>\n",
       "      <td>92.0</td>\n",
       "      <td>66</td>\n",
       "      <td>76</td>\n",
       "      <td>22</td>\n",
       "      <td>76</td>\n",
       "      <td>46</td>\n",
       "      <td>66</td>\n",
       "      <td>36</td>\n",
       "    </tr>\n",
       "    <tr>\n",
       "      <th>Yes</th>\n",
       "      <td>38</td>\n",
       "      <td>8</td>\n",
       "      <td>1</td>\n",
       "      <td>NaN</td>\n",
       "      <td>26</td>\n",
       "      <td>16</td>\n",
       "      <td>70</td>\n",
       "      <td>16</td>\n",
       "      <td>46</td>\n",
       "      <td>26</td>\n",
       "      <td>56</td>\n",
       "    </tr>\n",
       "  </tbody>\n",
       "</table>\n",
       "</div>"
      ],
      "text/plain": [
       "     CCM Web site  Billboard  Television  Radio  Social Media  \\\n",
       "No             54         84          91   92.0            66   \n",
       "Yes            38          8           1    NaN            26   \n",
       "\n",
       "     Community Event  Family member or Friend  Employer  Current Student  \\\n",
       "No                76                       22        76               46   \n",
       "Yes               16                       70        16               46   \n",
       "\n",
       "     Alumini  High School  \n",
       "No        66           36  \n",
       "Yes       26           56  "
      ]
     },
     "execution_count": 17,
     "metadata": {},
     "output_type": "execute_result"
    }
   ],
   "source": [
    "q1.apply(pd.Series.value_counts)"
   ]
  },
  {
   "cell_type": "markdown",
   "id": "a5a7e390-6d51-4940-b292-8ae2d81210a3",
   "metadata": {},
   "source": [
    "### The Above Code gives you the total count for the responses that were Gathered\n",
    "### Now saving the table into another DataFrame named t1"
   ]
  },
  {
   "cell_type": "code",
   "execution_count": 19,
   "id": "19a24db9-6b40-4683-acfb-0b195fa86303",
   "metadata": {},
   "outputs": [],
   "source": [
    "t1 = q1.apply(pd.Series.value_counts)"
   ]
  },
  {
   "cell_type": "code",
   "execution_count": 20,
   "id": "1d9941e6-89fa-47cf-b68f-0524831bdc15",
   "metadata": {},
   "outputs": [
    {
     "data": {
      "text/html": [
       "<div>\n",
       "<style scoped>\n",
       "    .dataframe tbody tr th:only-of-type {\n",
       "        vertical-align: middle;\n",
       "    }\n",
       "\n",
       "    .dataframe tbody tr th {\n",
       "        vertical-align: top;\n",
       "    }\n",
       "\n",
       "    .dataframe thead th {\n",
       "        text-align: right;\n",
       "    }\n",
       "</style>\n",
       "<table border=\"1\" class=\"dataframe\">\n",
       "  <thead>\n",
       "    <tr style=\"text-align: right;\">\n",
       "      <th></th>\n",
       "      <th>CCM Web site</th>\n",
       "      <th>Billboard</th>\n",
       "      <th>Television</th>\n",
       "      <th>Radio</th>\n",
       "      <th>Social Media</th>\n",
       "      <th>Community Event</th>\n",
       "      <th>Family member or Friend</th>\n",
       "      <th>Employer</th>\n",
       "      <th>Current Student</th>\n",
       "      <th>Alumini</th>\n",
       "      <th>High School</th>\n",
       "    </tr>\n",
       "  </thead>\n",
       "  <tbody>\n",
       "    <tr>\n",
       "      <th>No</th>\n",
       "      <td>54</td>\n",
       "      <td>84</td>\n",
       "      <td>91</td>\n",
       "      <td>92.0</td>\n",
       "      <td>66</td>\n",
       "      <td>76</td>\n",
       "      <td>22</td>\n",
       "      <td>76</td>\n",
       "      <td>46</td>\n",
       "      <td>66</td>\n",
       "      <td>36</td>\n",
       "    </tr>\n",
       "    <tr>\n",
       "      <th>Yes</th>\n",
       "      <td>38</td>\n",
       "      <td>8</td>\n",
       "      <td>1</td>\n",
       "      <td>NaN</td>\n",
       "      <td>26</td>\n",
       "      <td>16</td>\n",
       "      <td>70</td>\n",
       "      <td>16</td>\n",
       "      <td>46</td>\n",
       "      <td>26</td>\n",
       "      <td>56</td>\n",
       "    </tr>\n",
       "  </tbody>\n",
       "</table>\n",
       "</div>"
      ],
      "text/plain": [
       "     CCM Web site  Billboard  Television  Radio  Social Media  \\\n",
       "No             54         84          91   92.0            66   \n",
       "Yes            38          8           1    NaN            26   \n",
       "\n",
       "     Community Event  Family member or Friend  Employer  Current Student  \\\n",
       "No                76                       22        76               46   \n",
       "Yes               16                       70        16               46   \n",
       "\n",
       "     Alumini  High School  \n",
       "No        66           36  \n",
       "Yes       26           56  "
      ]
     },
     "execution_count": 20,
     "metadata": {},
     "output_type": "execute_result"
    }
   ],
   "source": [
    "t1"
   ]
  },
  {
   "cell_type": "markdown",
   "id": "40a89fde-87db-4b6c-8dd3-0ce45407a10f",
   "metadata": {},
   "source": [
    "### As there were no response for yes in the Radio it shows NaN\n",
    "### In the Next code We will Try and Remove the NaN"
   ]
  },
  {
   "cell_type": "code",
   "execution_count": 22,
   "id": "f4c41f5e-1c13-496e-a13d-8e15e4acc25b",
   "metadata": {
    "scrolled": true
   },
   "outputs": [],
   "source": [
    "t1.fillna(0, inplace=True)"
   ]
  },
  {
   "cell_type": "code",
   "execution_count": 23,
   "id": "9b6471c6-f213-463c-9896-1b4bb9ab9781",
   "metadata": {},
   "outputs": [
    {
     "data": {
      "text/html": [
       "<div>\n",
       "<style scoped>\n",
       "    .dataframe tbody tr th:only-of-type {\n",
       "        vertical-align: middle;\n",
       "    }\n",
       "\n",
       "    .dataframe tbody tr th {\n",
       "        vertical-align: top;\n",
       "    }\n",
       "\n",
       "    .dataframe thead th {\n",
       "        text-align: right;\n",
       "    }\n",
       "</style>\n",
       "<table border=\"1\" class=\"dataframe\">\n",
       "  <thead>\n",
       "    <tr style=\"text-align: right;\">\n",
       "      <th></th>\n",
       "      <th>CCM Web site</th>\n",
       "      <th>Billboard</th>\n",
       "      <th>Television</th>\n",
       "      <th>Radio</th>\n",
       "      <th>Social Media</th>\n",
       "      <th>Community Event</th>\n",
       "      <th>Family member or Friend</th>\n",
       "      <th>Employer</th>\n",
       "      <th>Current Student</th>\n",
       "      <th>Alumini</th>\n",
       "      <th>High School</th>\n",
       "    </tr>\n",
       "  </thead>\n",
       "  <tbody>\n",
       "    <tr>\n",
       "      <th>No</th>\n",
       "      <td>54</td>\n",
       "      <td>84</td>\n",
       "      <td>91</td>\n",
       "      <td>92.0</td>\n",
       "      <td>66</td>\n",
       "      <td>76</td>\n",
       "      <td>22</td>\n",
       "      <td>76</td>\n",
       "      <td>46</td>\n",
       "      <td>66</td>\n",
       "      <td>36</td>\n",
       "    </tr>\n",
       "    <tr>\n",
       "      <th>Yes</th>\n",
       "      <td>38</td>\n",
       "      <td>8</td>\n",
       "      <td>1</td>\n",
       "      <td>0.0</td>\n",
       "      <td>26</td>\n",
       "      <td>16</td>\n",
       "      <td>70</td>\n",
       "      <td>16</td>\n",
       "      <td>46</td>\n",
       "      <td>26</td>\n",
       "      <td>56</td>\n",
       "    </tr>\n",
       "  </tbody>\n",
       "</table>\n",
       "</div>"
      ],
      "text/plain": [
       "     CCM Web site  Billboard  Television  Radio  Social Media  \\\n",
       "No             54         84          91   92.0            66   \n",
       "Yes            38          8           1    0.0            26   \n",
       "\n",
       "     Community Event  Family member or Friend  Employer  Current Student  \\\n",
       "No                76                       22        76               46   \n",
       "Yes               16                       70        16               46   \n",
       "\n",
       "     Alumini  High School  \n",
       "No        66           36  \n",
       "Yes       26           56  "
      ]
     },
     "execution_count": 23,
     "metadata": {},
     "output_type": "execute_result"
    }
   ],
   "source": [
    "t1"
   ]
  },
  {
   "cell_type": "markdown",
   "id": "663923aa-a229-40d2-b1ca-be3b1521a739",
   "metadata": {},
   "source": [
    "## Now creating lists using numpy for X and Y components of the Graph"
   ]
  },
  {
   "cell_type": "code",
   "execution_count": 27,
   "id": "9606c79c-5dd8-493d-ab39-d9f151692bc5",
   "metadata": {},
   "outputs": [],
   "source": [
    "table1 = t1.T"
   ]
  },
  {
   "cell_type": "code",
   "execution_count": 28,
   "id": "e510dcbd-663a-40a5-a217-4ce7d77b300d",
   "metadata": {},
   "outputs": [
    {
     "data": {
      "text/html": [
       "<div>\n",
       "<style scoped>\n",
       "    .dataframe tbody tr th:only-of-type {\n",
       "        vertical-align: middle;\n",
       "    }\n",
       "\n",
       "    .dataframe tbody tr th {\n",
       "        vertical-align: top;\n",
       "    }\n",
       "\n",
       "    .dataframe thead th {\n",
       "        text-align: right;\n",
       "    }\n",
       "</style>\n",
       "<table border=\"1\" class=\"dataframe\">\n",
       "  <thead>\n",
       "    <tr style=\"text-align: right;\">\n",
       "      <th></th>\n",
       "      <th>No</th>\n",
       "      <th>Yes</th>\n",
       "    </tr>\n",
       "  </thead>\n",
       "  <tbody>\n",
       "    <tr>\n",
       "      <th>CCM Web site</th>\n",
       "      <td>54.0</td>\n",
       "      <td>38.0</td>\n",
       "    </tr>\n",
       "    <tr>\n",
       "      <th>Billboard</th>\n",
       "      <td>84.0</td>\n",
       "      <td>8.0</td>\n",
       "    </tr>\n",
       "    <tr>\n",
       "      <th>Television</th>\n",
       "      <td>91.0</td>\n",
       "      <td>1.0</td>\n",
       "    </tr>\n",
       "    <tr>\n",
       "      <th>Radio</th>\n",
       "      <td>92.0</td>\n",
       "      <td>0.0</td>\n",
       "    </tr>\n",
       "    <tr>\n",
       "      <th>Social Media</th>\n",
       "      <td>66.0</td>\n",
       "      <td>26.0</td>\n",
       "    </tr>\n",
       "    <tr>\n",
       "      <th>Community Event</th>\n",
       "      <td>76.0</td>\n",
       "      <td>16.0</td>\n",
       "    </tr>\n",
       "    <tr>\n",
       "      <th>Family member or Friend</th>\n",
       "      <td>22.0</td>\n",
       "      <td>70.0</td>\n",
       "    </tr>\n",
       "    <tr>\n",
       "      <th>Employer</th>\n",
       "      <td>76.0</td>\n",
       "      <td>16.0</td>\n",
       "    </tr>\n",
       "    <tr>\n",
       "      <th>Current Student</th>\n",
       "      <td>46.0</td>\n",
       "      <td>46.0</td>\n",
       "    </tr>\n",
       "    <tr>\n",
       "      <th>Alumini</th>\n",
       "      <td>66.0</td>\n",
       "      <td>26.0</td>\n",
       "    </tr>\n",
       "    <tr>\n",
       "      <th>High School</th>\n",
       "      <td>36.0</td>\n",
       "      <td>56.0</td>\n",
       "    </tr>\n",
       "  </tbody>\n",
       "</table>\n",
       "</div>"
      ],
      "text/plain": [
       "                           No   Yes\n",
       "CCM Web site             54.0  38.0\n",
       "Billboard                84.0   8.0\n",
       "Television               91.0   1.0\n",
       "Radio                    92.0   0.0\n",
       "Social Media             66.0  26.0\n",
       "Community Event          76.0  16.0\n",
       "Family member or Friend  22.0  70.0\n",
       "Employer                 76.0  16.0\n",
       "Current Student          46.0  46.0\n",
       "Alumini                  66.0  26.0\n",
       "High School              36.0  56.0"
      ]
     },
     "execution_count": 28,
     "metadata": {},
     "output_type": "execute_result"
    }
   ],
   "source": [
    "table1"
   ]
  },
  {
   "cell_type": "code",
   "execution_count": 29,
   "id": "96fe7cf3-b703-45ea-9bb5-2f40f8e56fde",
   "metadata": {},
   "outputs": [],
   "source": [
    "table1 = table1.reset_index()"
   ]
  },
  {
   "cell_type": "code",
   "execution_count": 30,
   "id": "9468b107-a951-4213-8868-7b85ef82ebf2",
   "metadata": {},
   "outputs": [],
   "source": [
    "table1 = table1.sort_values(by='Yes')"
   ]
  },
  {
   "cell_type": "code",
   "execution_count": 35,
   "id": "f3b1f3dc-2579-401a-bfe4-0dc8d69a4de0",
   "metadata": {},
   "outputs": [],
   "source": [
    "n1 = table1[['index','Yes']]"
   ]
  },
  {
   "cell_type": "code",
   "execution_count": 39,
   "id": "9717e73d-c635-4099-826a-9d23ba123e74",
   "metadata": {
    "scrolled": true
   },
   "outputs": [],
   "source": [
    "x1 = n1['index'].to_numpy()\n",
    "y1 = n1['Yes'].to_numpy()"
   ]
  },
  {
   "cell_type": "code",
   "execution_count": 44,
   "id": "045e74ef-b916-4a31-9243-1c52a04af189",
   "metadata": {},
   "outputs": [
    {
     "data": {
      "image/png": "[encoded data removed]",
      "text/plain": [
       "<Figure size 1000x600 with 1 Axes>"
      ]
     },
     "metadata": {},
     "output_type": "display_data"
    }
   ],
   "source": [
    "plt.figure(figsize=(10, 6))\n",
    "plt.title(\"Which advertisement methods have the lowest yield?\", fontsize=16)\n",
    "plt.xlabel(\"Number of Yes Responses\", fontsize=12)\n",
    "plt.ylabel(\"Method\", fontsize=12)\n",
    "plt.xticks(rotation=45, ha='right')\n",
    "bars = plt.barh(x1,y1,color='skyblue', edgecolor='black')\n",
    "for bar in bars:\n",
    "    plt.text(\n",
    "        bar.get_width() + 1,  # X-coordinate (to the right of the bar)\n",
    "        bar.get_y() + bar.get_height()/2,  # Y-coordinate (centered on the bar)\n",
    "        f'{int(bar.get_width())}',  # Text to display\n",
    "        ha='left', va='center', fontsize=10\n",
    "    )\n",
    "threshold = 10\n",
    "for tick_label, value in zip(plt.gca().get_yticklabels(), y1):\n",
    "    if value < threshold:\n",
    "        tick_label.set_color('red')  # Change to any color for low values\n",
    "    else:\n",
    "        tick_label.set_color('black')  # Default color for others\n"
   ]
  },
  {
   "cell_type": "markdown",
   "id": "92184197-c095-40f7-92dc-95c59d04efe4",
   "metadata": {},
   "source": [
    "### As we can see, the Billboard, Television and Radio have the lowest Yeild"
   ]
  },
  {
   "cell_type": "markdown",
   "id": "09ac5e78-006b-4b6a-9408-79f8822236b9",
   "metadata": {},
   "source": [
    "### so from above table we can say that Advertising using 'Radio' produces the lowest yeild"
   ]
  },
  {
   "cell_type": "markdown",
   "id": "b9a6a7dd-c3f5-4481-bd7e-22a63cb542fb",
   "metadata": {},
   "source": [
    "## 2.\tWhich events or activities at CCM Influences people to Enroll at CCM?"
   ]
  },
  {
   "cell_type": "markdown",
   "id": "702b21a5-13b5-4789-972c-4715d1876d90",
   "metadata": {},
   "source": [
    "## Subsetting the needed columns for the question"
   ]
  },
  {
   "cell_type": "code",
   "execution_count": 54,
   "id": "d1c4bc2a-cccd-448d-98eb-2587a1e50823",
   "metadata": {},
   "outputs": [],
   "source": [
    "q2 = n[['Prior to applying to college, did you participate in any of the following events or activities at the County College of Morris and/or with the Department of Information Technologies, if at all? [Open House]',\n",
    "       'Prior to applying to college, did you participate in any of the following events or activities at the County College of Morris and/or with the Department of Information Technologies, if at all? [Instant Decision Day]',\n",
    "       'Prior to applying to college, did you participate in any of the following events or activities at the County College of Morris and/or with the Department of Information Technologies, if at all? [On-Campus Information Session]',\n",
    "       \"Prior to applying to college, did you participate in any of the following events or activities at the County College of Morris and/or with the Department of Information Technologies, if at all? [TItan's Tuesday Virtual Information Session]\",\n",
    "  \n",
    "    'Prior to applying to college, did you participate in any of the following events or activities at the County College of Morris and/or with the Department of Information Technologies, if at all? [Women Who Dare]',\n",
    "       'Prior to applying to college, did you participate in any of the following events or activities at the County College of Morris and/or with the Department of Information Technologies, if at all? [Regional College Fair]']]"
   ]
  },
  {
   "cell_type": "markdown",
   "id": "95c41121-cc6d-42ce-b773-5c0b6ecca5d5",
   "metadata": {},
   "source": [
    "## Renaming the columns that are present, only using the values in []"
   ]
  },
  {
   "cell_type": "code",
   "execution_count": 57,
   "id": "9f527dcc-9458-44de-9641-285b1c1b3cbf",
   "metadata": {},
   "outputs": [],
   "source": [
    "q2 = q2.rename(columns ={ 'Prior to applying to college, did you participate in any of the following events or activities at the County College of Morris and/or with the Department of Information Technologies, if at all? [Open House]' : 'Open House',\n",
    " 'Prior to applying to college, did you participate in any of the following events or activities at the County College of Morris and/or with the Department of Information Technologies, if at all? [Instant Decision Day]' : 'Instant Decision Day',\n",
    " 'Prior to applying to college, did you participate in any of the following events or activities at the County College of Morris and/or with the Department of Information Technologies, if at all? [On-Campus Information Session]':'On-Campus Information Session',\n",
    " \"Prior to applying to college, did you participate in any of the following events or activities at the County College of Morris and/or with the Department of Information Technologies, if at all? [TItan's Tuesday Virtual Information Session]\":\"Titan's Tuesday Virtual Information Session\",\n",
    " 'Prior to applying to college, did you participate in any of the following events or activities at the County College of Morris and/or with the Department of Information Technologies, if at all? [Women Who Dare]':'Women Who Dare',\n",
    " 'Prior to applying to college, did you participate in any of the following events or activities at the County College of Morris and/or with the Department of Information Technologies, if at all? [Regional College Fair]':'Regional College Fair'   \n",
    "})"
   ]
  },
  {
   "cell_type": "code",
   "execution_count": 59,
   "id": "9ac969ec-81cd-4a34-b86c-82deb0376eab",
   "metadata": {},
   "outputs": [
    {
     "data": {
      "text/html": [
       "<div>\n",
       "<style scoped>\n",
       "    .dataframe tbody tr th:only-of-type {\n",
       "        vertical-align: middle;\n",
       "    }\n",
       "\n",
       "    .dataframe tbody tr th {\n",
       "        vertical-align: top;\n",
       "    }\n",
       "\n",
       "    .dataframe thead th {\n",
       "        text-align: right;\n",
       "    }\n",
       "</style>\n",
       "<table border=\"1\" class=\"dataframe\">\n",
       "  <thead>\n",
       "    <tr style=\"text-align: right;\">\n",
       "      <th></th>\n",
       "      <th>Open House</th>\n",
       "      <th>Instant Decision Day</th>\n",
       "      <th>On-Campus Information Session</th>\n",
       "      <th>Titan's Tuesday Virtual Information Session</th>\n",
       "      <th>Women Who Dare</th>\n",
       "      <th>Regional College Fair</th>\n",
       "    </tr>\n",
       "  </thead>\n",
       "  <tbody>\n",
       "    <tr>\n",
       "      <th>0</th>\n",
       "      <td>Yes</td>\n",
       "      <td>Yes</td>\n",
       "      <td>No</td>\n",
       "      <td>No</td>\n",
       "      <td>No</td>\n",
       "      <td>Yes</td>\n",
       "    </tr>\n",
       "    <tr>\n",
       "      <th>1</th>\n",
       "      <td>No</td>\n",
       "      <td>No</td>\n",
       "      <td>No</td>\n",
       "      <td>No</td>\n",
       "      <td>No</td>\n",
       "      <td>No</td>\n",
       "    </tr>\n",
       "    <tr>\n",
       "      <th>2</th>\n",
       "      <td>Not Sure</td>\n",
       "      <td>Not Sure</td>\n",
       "      <td>Not Sure</td>\n",
       "      <td>Not Sure</td>\n",
       "      <td>Not Sure</td>\n",
       "      <td>Not Sure</td>\n",
       "    </tr>\n",
       "    <tr>\n",
       "      <th>3</th>\n",
       "      <td>Yes</td>\n",
       "      <td>No</td>\n",
       "      <td>No</td>\n",
       "      <td>No</td>\n",
       "      <td>No</td>\n",
       "      <td>No</td>\n",
       "    </tr>\n",
       "    <tr>\n",
       "      <th>4</th>\n",
       "      <td>No</td>\n",
       "      <td>No</td>\n",
       "      <td>No</td>\n",
       "      <td>No</td>\n",
       "      <td>No</td>\n",
       "      <td>No</td>\n",
       "    </tr>\n",
       "    <tr>\n",
       "      <th>...</th>\n",
       "      <td>...</td>\n",
       "      <td>...</td>\n",
       "      <td>...</td>\n",
       "      <td>...</td>\n",
       "      <td>...</td>\n",
       "      <td>...</td>\n",
       "    </tr>\n",
       "    <tr>\n",
       "      <th>87</th>\n",
       "      <td>No</td>\n",
       "      <td>No</td>\n",
       "      <td>No</td>\n",
       "      <td>No</td>\n",
       "      <td>No</td>\n",
       "      <td>No</td>\n",
       "    </tr>\n",
       "    <tr>\n",
       "      <th>88</th>\n",
       "      <td>Yes</td>\n",
       "      <td>No</td>\n",
       "      <td>No</td>\n",
       "      <td>No</td>\n",
       "      <td>No</td>\n",
       "      <td>No</td>\n",
       "    </tr>\n",
       "    <tr>\n",
       "      <th>89</th>\n",
       "      <td>Yes</td>\n",
       "      <td>No</td>\n",
       "      <td>Yes</td>\n",
       "      <td>No</td>\n",
       "      <td>No</td>\n",
       "      <td>No</td>\n",
       "    </tr>\n",
       "    <tr>\n",
       "      <th>90</th>\n",
       "      <td>No</td>\n",
       "      <td>No</td>\n",
       "      <td>No</td>\n",
       "      <td>No</td>\n",
       "      <td>No</td>\n",
       "      <td>No</td>\n",
       "    </tr>\n",
       "    <tr>\n",
       "      <th>91</th>\n",
       "      <td>No</td>\n",
       "      <td>No</td>\n",
       "      <td>No</td>\n",
       "      <td>Yes</td>\n",
       "      <td>No</td>\n",
       "      <td>No</td>\n",
       "    </tr>\n",
       "  </tbody>\n",
       "</table>\n",
       "<p>92 rows × 6 columns</p>\n",
       "</div>"
      ],
      "text/plain": [
       "   Open House Instant Decision Day On-Campus Information Session  \\\n",
       "0         Yes                  Yes                            No   \n",
       "1          No                   No                            No   \n",
       "2    Not Sure             Not Sure                      Not Sure   \n",
       "3         Yes                   No                            No   \n",
       "4          No                   No                            No   \n",
       "..        ...                  ...                           ...   \n",
       "87         No                   No                            No   \n",
       "88        Yes                   No                            No   \n",
       "89        Yes                   No                           Yes   \n",
       "90         No                   No                            No   \n",
       "91         No                   No                            No   \n",
       "\n",
       "   Titan's Tuesday Virtual Information Session Women Who Dare  \\\n",
       "0                                           No             No   \n",
       "1                                           No             No   \n",
       "2                                     Not Sure       Not Sure   \n",
       "3                                           No             No   \n",
       "4                                           No             No   \n",
       "..                                         ...            ...   \n",
       "87                                          No             No   \n",
       "88                                          No             No   \n",
       "89                                          No             No   \n",
       "90                                          No             No   \n",
       "91                                         Yes             No   \n",
       "\n",
       "   Regional College Fair  \n",
       "0                    Yes  \n",
       "1                     No  \n",
       "2               Not Sure  \n",
       "3                     No  \n",
       "4                     No  \n",
       "..                   ...  \n",
       "87                    No  \n",
       "88                    No  \n",
       "89                    No  \n",
       "90                    No  \n",
       "91                    No  \n",
       "\n",
       "[92 rows x 6 columns]"
      ]
     },
     "execution_count": 59,
     "metadata": {},
     "output_type": "execute_result"
    }
   ],
   "source": [
    "q2"
   ]
  },
  {
   "cell_type": "markdown",
   "id": "bdc66abd-f5a4-4fcc-b372-2e07e5114ecc",
   "metadata": {},
   "source": [
    "## Counting the Yes, No and Not Sure Values"
   ]
  },
  {
   "cell_type": "code",
   "execution_count": 62,
   "id": "f534bb87-7dc2-4068-9e8f-a02fdf917b0e",
   "metadata": {},
   "outputs": [],
   "source": [
    "t2 = q2.apply(pd.Series.value_counts)"
   ]
  },
  {
   "cell_type": "code",
   "execution_count": 64,
   "id": "e884c900-306d-44e2-8510-da76acd800c8",
   "metadata": {},
   "outputs": [
    {
     "data": {
      "text/html": [
       "<div>\n",
       "<style scoped>\n",
       "    .dataframe tbody tr th:only-of-type {\n",
       "        vertical-align: middle;\n",
       "    }\n",
       "\n",
       "    .dataframe tbody tr th {\n",
       "        vertical-align: top;\n",
       "    }\n",
       "\n",
       "    .dataframe thead th {\n",
       "        text-align: right;\n",
       "    }\n",
       "</style>\n",
       "<table border=\"1\" class=\"dataframe\">\n",
       "  <thead>\n",
       "    <tr style=\"text-align: right;\">\n",
       "      <th></th>\n",
       "      <th>Open House</th>\n",
       "      <th>Instant Decision Day</th>\n",
       "      <th>On-Campus Information Session</th>\n",
       "      <th>Titan's Tuesday Virtual Information Session</th>\n",
       "      <th>Women Who Dare</th>\n",
       "      <th>Regional College Fair</th>\n",
       "    </tr>\n",
       "  </thead>\n",
       "  <tbody>\n",
       "    <tr>\n",
       "      <th>No</th>\n",
       "      <td>65</td>\n",
       "      <td>87</td>\n",
       "      <td>69</td>\n",
       "      <td>82</td>\n",
       "      <td>89.0</td>\n",
       "      <td>84</td>\n",
       "    </tr>\n",
       "    <tr>\n",
       "      <th>Not Sure</th>\n",
       "      <td>4</td>\n",
       "      <td>2</td>\n",
       "      <td>4</td>\n",
       "      <td>2</td>\n",
       "      <td>3.0</td>\n",
       "      <td>3</td>\n",
       "    </tr>\n",
       "    <tr>\n",
       "      <th>Yes</th>\n",
       "      <td>23</td>\n",
       "      <td>3</td>\n",
       "      <td>19</td>\n",
       "      <td>8</td>\n",
       "      <td>NaN</td>\n",
       "      <td>5</td>\n",
       "    </tr>\n",
       "  </tbody>\n",
       "</table>\n",
       "</div>"
      ],
      "text/plain": [
       "          Open House  Instant Decision Day  On-Campus Information Session  \\\n",
       "No                65                    87                             69   \n",
       "Not Sure           4                     2                              4   \n",
       "Yes               23                     3                             19   \n",
       "\n",
       "          Titan's Tuesday Virtual Information Session  Women Who Dare  \\\n",
       "No                                                 82            89.0   \n",
       "Not Sure                                            2             3.0   \n",
       "Yes                                                 8             NaN   \n",
       "\n",
       "          Regional College Fair  \n",
       "No                           84  \n",
       "Not Sure                      3  \n",
       "Yes                           5  "
      ]
     },
     "execution_count": 64,
     "metadata": {},
     "output_type": "execute_result"
    }
   ],
   "source": [
    "t2"
   ]
  },
  {
   "cell_type": "code",
   "execution_count": 66,
   "id": "38be9301-f336-4f27-8fb1-6fe9b5076bac",
   "metadata": {},
   "outputs": [],
   "source": [
    "table2 = t2.T"
   ]
  },
  {
   "cell_type": "code",
   "execution_count": 67,
   "id": "33d0ac20-bfaf-4300-83e1-3b8db0508034",
   "metadata": {},
   "outputs": [
    {
     "data": {
      "text/html": [
       "<div>\n",
       "<style scoped>\n",
       "    .dataframe tbody tr th:only-of-type {\n",
       "        vertical-align: middle;\n",
       "    }\n",
       "\n",
       "    .dataframe tbody tr th {\n",
       "        vertical-align: top;\n",
       "    }\n",
       "\n",
       "    .dataframe thead th {\n",
       "        text-align: right;\n",
       "    }\n",
       "</style>\n",
       "<table border=\"1\" class=\"dataframe\">\n",
       "  <thead>\n",
       "    <tr style=\"text-align: right;\">\n",
       "      <th></th>\n",
       "      <th>No</th>\n",
       "      <th>Not Sure</th>\n",
       "      <th>Yes</th>\n",
       "    </tr>\n",
       "  </thead>\n",
       "  <tbody>\n",
       "    <tr>\n",
       "      <th>Open House</th>\n",
       "      <td>65.0</td>\n",
       "      <td>4.0</td>\n",
       "      <td>23.0</td>\n",
       "    </tr>\n",
       "    <tr>\n",
       "      <th>Instant Decision Day</th>\n",
       "      <td>87.0</td>\n",
       "      <td>2.0</td>\n",
       "      <td>3.0</td>\n",
       "    </tr>\n",
       "    <tr>\n",
       "      <th>On-Campus Information Session</th>\n",
       "      <td>69.0</td>\n",
       "      <td>4.0</td>\n",
       "      <td>19.0</td>\n",
       "    </tr>\n",
       "    <tr>\n",
       "      <th>Titan's Tuesday Virtual Information Session</th>\n",
       "      <td>82.0</td>\n",
       "      <td>2.0</td>\n",
       "      <td>8.0</td>\n",
       "    </tr>\n",
       "    <tr>\n",
       "      <th>Women Who Dare</th>\n",
       "      <td>89.0</td>\n",
       "      <td>3.0</td>\n",
       "      <td>NaN</td>\n",
       "    </tr>\n",
       "    <tr>\n",
       "      <th>Regional College Fair</th>\n",
       "      <td>84.0</td>\n",
       "      <td>3.0</td>\n",
       "      <td>5.0</td>\n",
       "    </tr>\n",
       "  </tbody>\n",
       "</table>\n",
       "</div>"
      ],
      "text/plain": [
       "                                               No  Not Sure   Yes\n",
       "Open House                                   65.0       4.0  23.0\n",
       "Instant Decision Day                         87.0       2.0   3.0\n",
       "On-Campus Information Session                69.0       4.0  19.0\n",
       "Titan's Tuesday Virtual Information Session  82.0       2.0   8.0\n",
       "Women Who Dare                               89.0       3.0   NaN\n",
       "Regional College Fair                        84.0       3.0   5.0"
      ]
     },
     "execution_count": 67,
     "metadata": {},
     "output_type": "execute_result"
    }
   ],
   "source": [
    "table2"
   ]
  },
  {
   "cell_type": "code",
   "execution_count": 69,
   "id": "6947285d-6751-4900-b2f8-3aec52507e98",
   "metadata": {},
   "outputs": [],
   "source": [
    "table2 = table2.reset_index()"
   ]
  },
  {
   "cell_type": "code",
   "execution_count": 71,
   "id": "07cbe06f-f482-4403-b9d1-e5b3a2681fce",
   "metadata": {},
   "outputs": [
    {
     "data": {
      "text/html": [
       "<div>\n",
       "<style scoped>\n",
       "    .dataframe tbody tr th:only-of-type {\n",
       "        vertical-align: middle;\n",
       "    }\n",
       "\n",
       "    .dataframe tbody tr th {\n",
       "        vertical-align: top;\n",
       "    }\n",
       "\n",
       "    .dataframe thead th {\n",
       "        text-align: right;\n",
       "    }\n",
       "</style>\n",
       "<table border=\"1\" class=\"dataframe\">\n",
       "  <thead>\n",
       "    <tr style=\"text-align: right;\">\n",
       "      <th></th>\n",
       "      <th>index</th>\n",
       "      <th>No</th>\n",
       "      <th>Not Sure</th>\n",
       "      <th>Yes</th>\n",
       "    </tr>\n",
       "  </thead>\n",
       "  <tbody>\n",
       "    <tr>\n",
       "      <th>0</th>\n",
       "      <td>Open House</td>\n",
       "      <td>65.0</td>\n",
       "      <td>4.0</td>\n",
       "      <td>23.0</td>\n",
       "    </tr>\n",
       "    <tr>\n",
       "      <th>1</th>\n",
       "      <td>Instant Decision Day</td>\n",
       "      <td>87.0</td>\n",
       "      <td>2.0</td>\n",
       "      <td>3.0</td>\n",
       "    </tr>\n",
       "    <tr>\n",
       "      <th>2</th>\n",
       "      <td>On-Campus Information Session</td>\n",
       "      <td>69.0</td>\n",
       "      <td>4.0</td>\n",
       "      <td>19.0</td>\n",
       "    </tr>\n",
       "    <tr>\n",
       "      <th>3</th>\n",
       "      <td>Titan's Tuesday Virtual Information Session</td>\n",
       "      <td>82.0</td>\n",
       "      <td>2.0</td>\n",
       "      <td>8.0</td>\n",
       "    </tr>\n",
       "    <tr>\n",
       "      <th>4</th>\n",
       "      <td>Women Who Dare</td>\n",
       "      <td>89.0</td>\n",
       "      <td>3.0</td>\n",
       "      <td>NaN</td>\n",
       "    </tr>\n",
       "    <tr>\n",
       "      <th>5</th>\n",
       "      <td>Regional College Fair</td>\n",
       "      <td>84.0</td>\n",
       "      <td>3.0</td>\n",
       "      <td>5.0</td>\n",
       "    </tr>\n",
       "  </tbody>\n",
       "</table>\n",
       "</div>"
      ],
      "text/plain": [
       "                                         index    No  Not Sure   Yes\n",
       "0                                   Open House  65.0       4.0  23.0\n",
       "1                         Instant Decision Day  87.0       2.0   3.0\n",
       "2                On-Campus Information Session  69.0       4.0  19.0\n",
       "3  Titan's Tuesday Virtual Information Session  82.0       2.0   8.0\n",
       "4                               Women Who Dare  89.0       3.0   NaN\n",
       "5                        Regional College Fair  84.0       3.0   5.0"
      ]
     },
     "execution_count": 71,
     "metadata": {},
     "output_type": "execute_result"
    }
   ],
   "source": [
    "table2"
   ]
  },
  {
   "cell_type": "code",
   "execution_count": 73,
   "id": "b6e1824b-9704-4cb2-bc56-68c765c4a05c",
   "metadata": {},
   "outputs": [],
   "source": [
    "table2.fillna(0, inplace=True)"
   ]
  },
  {
   "cell_type": "code",
   "execution_count": 74,
   "id": "4d796cdf-1959-4f96-83a5-d3fe476a1de2",
   "metadata": {},
   "outputs": [
    {
     "data": {
      "text/html": [
       "<div>\n",
       "<style scoped>\n",
       "    .dataframe tbody tr th:only-of-type {\n",
       "        vertical-align: middle;\n",
       "    }\n",
       "\n",
       "    .dataframe tbody tr th {\n",
       "        vertical-align: top;\n",
       "    }\n",
       "\n",
       "    .dataframe thead th {\n",
       "        text-align: right;\n",
       "    }\n",
       "</style>\n",
       "<table border=\"1\" class=\"dataframe\">\n",
       "  <thead>\n",
       "    <tr style=\"text-align: right;\">\n",
       "      <th></th>\n",
       "      <th>index</th>\n",
       "      <th>No</th>\n",
       "      <th>Not Sure</th>\n",
       "      <th>Yes</th>\n",
       "    </tr>\n",
       "  </thead>\n",
       "  <tbody>\n",
       "    <tr>\n",
       "      <th>0</th>\n",
       "      <td>Open House</td>\n",
       "      <td>65.0</td>\n",
       "      <td>4.0</td>\n",
       "      <td>23.0</td>\n",
       "    </tr>\n",
       "    <tr>\n",
       "      <th>1</th>\n",
       "      <td>Instant Decision Day</td>\n",
       "      <td>87.0</td>\n",
       "      <td>2.0</td>\n",
       "      <td>3.0</td>\n",
       "    </tr>\n",
       "    <tr>\n",
       "      <th>2</th>\n",
       "      <td>On-Campus Information Session</td>\n",
       "      <td>69.0</td>\n",
       "      <td>4.0</td>\n",
       "      <td>19.0</td>\n",
       "    </tr>\n",
       "    <tr>\n",
       "      <th>3</th>\n",
       "      <td>Titan's Tuesday Virtual Information Session</td>\n",
       "      <td>82.0</td>\n",
       "      <td>2.0</td>\n",
       "      <td>8.0</td>\n",
       "    </tr>\n",
       "    <tr>\n",
       "      <th>4</th>\n",
       "      <td>Women Who Dare</td>\n",
       "      <td>89.0</td>\n",
       "      <td>3.0</td>\n",
       "      <td>0.0</td>\n",
       "    </tr>\n",
       "    <tr>\n",
       "      <th>5</th>\n",
       "      <td>Regional College Fair</td>\n",
       "      <td>84.0</td>\n",
       "      <td>3.0</td>\n",
       "      <td>5.0</td>\n",
       "    </tr>\n",
       "  </tbody>\n",
       "</table>\n",
       "</div>"
      ],
      "text/plain": [
       "                                         index    No  Not Sure   Yes\n",
       "0                                   Open House  65.0       4.0  23.0\n",
       "1                         Instant Decision Day  87.0       2.0   3.0\n",
       "2                On-Campus Information Session  69.0       4.0  19.0\n",
       "3  Titan's Tuesday Virtual Information Session  82.0       2.0   8.0\n",
       "4                               Women Who Dare  89.0       3.0   0.0\n",
       "5                        Regional College Fair  84.0       3.0   5.0"
      ]
     },
     "execution_count": 74,
     "metadata": {},
     "output_type": "execute_result"
    }
   ],
   "source": [
    "table2"
   ]
  },
  {
   "cell_type": "code",
   "execution_count": 75,
   "id": "3e60c6c7-e70f-4bd5-85ad-1af76a96a11d",
   "metadata": {},
   "outputs": [],
   "source": [
    "table2 = table2.sort_values(by='Yes')"
   ]
  },
  {
   "cell_type": "code",
   "execution_count": 77,
   "id": "8eb94276-5321-4f05-8f83-644ad6112d60",
   "metadata": {},
   "outputs": [
    {
     "data": {
      "text/html": [
       "<div>\n",
       "<style scoped>\n",
       "    .dataframe tbody tr th:only-of-type {\n",
       "        vertical-align: middle;\n",
       "    }\n",
       "\n",
       "    .dataframe tbody tr th {\n",
       "        vertical-align: top;\n",
       "    }\n",
       "\n",
       "    .dataframe thead th {\n",
       "        text-align: right;\n",
       "    }\n",
       "</style>\n",
       "<table border=\"1\" class=\"dataframe\">\n",
       "  <thead>\n",
       "    <tr style=\"text-align: right;\">\n",
       "      <th></th>\n",
       "      <th>index</th>\n",
       "      <th>No</th>\n",
       "      <th>Not Sure</th>\n",
       "      <th>Yes</th>\n",
       "    </tr>\n",
       "  </thead>\n",
       "  <tbody>\n",
       "    <tr>\n",
       "      <th>4</th>\n",
       "      <td>Women Who Dare</td>\n",
       "      <td>89.0</td>\n",
       "      <td>3.0</td>\n",
       "      <td>0.0</td>\n",
       "    </tr>\n",
       "    <tr>\n",
       "      <th>1</th>\n",
       "      <td>Instant Decision Day</td>\n",
       "      <td>87.0</td>\n",
       "      <td>2.0</td>\n",
       "      <td>3.0</td>\n",
       "    </tr>\n",
       "    <tr>\n",
       "      <th>5</th>\n",
       "      <td>Regional College Fair</td>\n",
       "      <td>84.0</td>\n",
       "      <td>3.0</td>\n",
       "      <td>5.0</td>\n",
       "    </tr>\n",
       "    <tr>\n",
       "      <th>3</th>\n",
       "      <td>Titan's Tuesday Virtual Information Session</td>\n",
       "      <td>82.0</td>\n",
       "      <td>2.0</td>\n",
       "      <td>8.0</td>\n",
       "    </tr>\n",
       "    <tr>\n",
       "      <th>2</th>\n",
       "      <td>On-Campus Information Session</td>\n",
       "      <td>69.0</td>\n",
       "      <td>4.0</td>\n",
       "      <td>19.0</td>\n",
       "    </tr>\n",
       "    <tr>\n",
       "      <th>0</th>\n",
       "      <td>Open House</td>\n",
       "      <td>65.0</td>\n",
       "      <td>4.0</td>\n",
       "      <td>23.0</td>\n",
       "    </tr>\n",
       "  </tbody>\n",
       "</table>\n",
       "</div>"
      ],
      "text/plain": [
       "                                         index    No  Not Sure   Yes\n",
       "4                               Women Who Dare  89.0       3.0   0.0\n",
       "1                         Instant Decision Day  87.0       2.0   3.0\n",
       "5                        Regional College Fair  84.0       3.0   5.0\n",
       "3  Titan's Tuesday Virtual Information Session  82.0       2.0   8.0\n",
       "2                On-Campus Information Session  69.0       4.0  19.0\n",
       "0                                   Open House  65.0       4.0  23.0"
      ]
     },
     "execution_count": 77,
     "metadata": {},
     "output_type": "execute_result"
    }
   ],
   "source": [
    "table2"
   ]
  },
  {
   "cell_type": "code",
   "execution_count": null,
   "id": "af18e6ca-ee1e-4837-b769-53d4d862794d",
   "metadata": {},
   "outputs": [],
   "source": []
  },
  {
   "cell_type": "code",
   "execution_count": 79,
   "id": "40a92180-0331-4092-b101-1a6bacd41b9c",
   "metadata": {},
   "outputs": [
    {
     "name": "stdout",
     "output_type": "stream",
     "text": [
      "Unexpected exception formatting exception. Falling back to standard exception\n"
     ]
    },
    {
     "name": "stderr",
     "output_type": "stream",
     "text": [
      "Traceback (most recent call last):\n",
      "  File \"C:\\Users\\2023k\\AppData\\Roaming\\Python\\Python312\\site-packages\\IPython\\core\\interactiveshell.py\", line 3577, in run_code\n",
      "    exec(code_obj, self.user_global_ns, self.user_ns)\n",
      "  File \"C:\\Users\\2023k\\AppData\\Local\\Temp\\ipykernel_14280\\3005176344.py\", line 28, in <module>\n",
      "    for i in range(len(categories)):\n",
      "                       ^^^^^^^^^^\n",
      "NameError: name 'categories' is not defined\n",
      "\n",
      "During handling of the above exception, another exception occurred:\n",
      "\n",
      "Traceback (most recent call last):\n",
      "  File \"C:\\Users\\2023k\\AppData\\Roaming\\Python\\Python312\\site-packages\\IPython\\core\\interactiveshell.py\", line 2168, in showtraceback\n",
      "    stb = self.InteractiveTB.structured_traceback(\n",
      "          ^^^^^^^^^^^^^^^^^^^^^^^^^^^^^^^^^^^^^^^^\n",
      "  File \"C:\\Users\\2023k\\AppData\\Roaming\\Python\\Python312\\site-packages\\IPython\\core\\ultratb.py\", line 1457, in structured_traceback\n",
      "    return FormattedTB.structured_traceback(\n",
      "           ^^^^^^^^^^^^^^^^^^^^^^^^^^^^^^^^^\n",
      "  File \"C:\\Users\\2023k\\AppData\\Roaming\\Python\\Python312\\site-packages\\IPython\\core\\ultratb.py\", line 1348, in structured_traceback\n",
      "    return VerboseTB.structured_traceback(\n",
      "           ^^^^^^^^^^^^^^^^^^^^^^^^^^^^^^^\n",
      "  File \"C:\\Users\\2023k\\AppData\\Roaming\\Python\\Python312\\site-packages\\IPython\\core\\ultratb.py\", line 1195, in structured_traceback\n",
      "    formatted_exception = self.format_exception_as_a_whole(etype, evalue, etb, number_of_lines_of_context,\n",
      "                          ^^^^^^^^^^^^^^^^^^^^^^^^^^^^^^^^^^^^^^^^^^^^^^^^^^^^^^^^^^^^^^^^^^^^^^^^^^^^^^^^\n",
      "  File \"C:\\Users\\2023k\\AppData\\Roaming\\Python\\Python312\\site-packages\\IPython\\core\\ultratb.py\", line 1110, in format_exception_as_a_whole\n",
      "    frames.append(self.format_record(record))\n",
      "                  ^^^^^^^^^^^^^^^^^^^^^^^^^^\n",
      "  File \"C:\\Users\\2023k\\AppData\\Roaming\\Python\\Python312\\site-packages\\IPython\\core\\ultratb.py\", line 992, in format_record\n",
      "    frame_info.lines, Colors, self.has_colors, lvals\n",
      "    ^^^^^^^^^^^^^^^^\n",
      "  File \"C:\\Users\\2023k\\AppData\\Roaming\\Python\\Python312\\site-packages\\IPython\\core\\ultratb.py\", line 804, in lines\n",
      "    return self._sd.lines\n",
      "           ^^^^^^^^^^^^^^\n",
      "  File \"C:\\Users\\2023k\\AppData\\Roaming\\Python\\Python312\\site-packages\\stack_data\\utils.py\", line 145, in cached_property_wrapper\n",
      "    value = obj.__dict__[self.func.__name__] = self.func(obj)\n",
      "                                               ^^^^^^^^^^^^^^\n",
      "  File \"C:\\Users\\2023k\\AppData\\Roaming\\Python\\Python312\\site-packages\\stack_data\\core.py\", line 734, in lines\n",
      "    pieces = self.included_pieces\n",
      "             ^^^^^^^^^^^^^^^^^^^^\n",
      "  File \"C:\\Users\\2023k\\AppData\\Roaming\\Python\\Python312\\site-packages\\stack_data\\utils.py\", line 145, in cached_property_wrapper\n",
      "    value = obj.__dict__[self.func.__name__] = self.func(obj)\n",
      "                                               ^^^^^^^^^^^^^^\n",
      "  File \"C:\\Users\\2023k\\AppData\\Roaming\\Python\\Python312\\site-packages\\stack_data\\core.py\", line 677, in included_pieces\n",
      "    scope_pieces = self.scope_pieces\n",
      "                   ^^^^^^^^^^^^^^^^^\n",
      "  File \"C:\\Users\\2023k\\AppData\\Roaming\\Python\\Python312\\site-packages\\stack_data\\utils.py\", line 145, in cached_property_wrapper\n",
      "    value = obj.__dict__[self.func.__name__] = self.func(obj)\n",
      "                                               ^^^^^^^^^^^^^^\n",
      "  File \"C:\\Users\\2023k\\AppData\\Roaming\\Python\\Python312\\site-packages\\stack_data\\core.py\", line 614, in scope_pieces\n",
      "    scope_start, scope_end = self.source.line_range(self.scope)\n",
      "                             ^^^^^^^^^^^^^^^^^^^^^^^^^^^^^^^^^^\n",
      "  File \"C:\\Users\\2023k\\AppData\\Roaming\\Python\\Python312\\site-packages\\stack_data\\core.py\", line 178, in line_range\n",
      "    return line_range(self.asttext(), node)\n",
      "                      ^^^^^^^^^^^^\n",
      "AttributeError: 'Source' object has no attribute 'asttext'\n"
     ]
    },
    {
     "data": {
      "image/png": "[encoded data removed]",
      "text/plain": [
       "<Figure size 640x480 with 1 Axes>"
      ]
     },
     "metadata": {},
     "output_type": "display_data"
    }
   ],
   "source": [
    "import matplotlib.pyplot as plt\n",
    "import numpy as np\n",
    "\n",
    "x2a = table2['Yes'].to_numpy()\n",
    "x2b = table2['No'].to_numpy()\n",
    "x2c = table2['Not Sure'].to_numpy()\n",
    "\n",
    "y2 = table2['index'].to_numpy()\n",
    "\n",
    "# Example data\n",
    "\n",
    "\n",
    "# Define the bar height\n",
    "bar_height = 0.25\n",
    "\n",
    "# Set positions for the bars\n",
    "y = np.arange(len(y2))\n",
    "a1 = y\n",
    "a2 = y + bar_height\n",
    "a3 = y + (2 * bar_height)\n",
    "\n",
    "# Create the horizontal bar chart with different colors for each column\n",
    "plt.barh(a1, x2a, height=bar_height, color='red', label='Yes')\n",
    "plt.barh(a2, x2b, height=bar_height, color='green', label='No')\n",
    "plt.barh(a3, x2c, height=bar_height, color='blue', label='Not Sure')\n",
    "\n",
    "# Add counts on the bars\n",
    "for i in range(len(categories)):\n",
    "    plt.text(x2a[i] + 1, a1[i], str(x2a[i]), va='center', fontsize=8)\n",
    "    plt.text(x2b[i] + 1, a2[i], str(x2b[i]), va='center', fontsize=8)\n",
    "    plt.text(x2c[i] + 1, a3[i], str(x2c[i]), va='center', fontsize=8)\n",
    "\n",
    "# Add titles and labels\n",
    "plt.title('Which events or activities at CCM Influences people to Enroll at CCM?', fontsize=14)\n",
    "plt.ylabel('Categories', fontsize=12)\n",
    "plt.xlabel('Count', fontsize=12)\n",
    "plt.yticks(y + bar_height, y2)  # Set the y-ticks to match the categories\n",
    "plt.legend()\n",
    "\n",
    "# Show the chart\n",
    "plt.show()"
   ]
  },
  {
   "cell_type": "code",
   "execution_count": null,
   "id": "e267e374-daa4-4615-940a-ab28b956035a",
   "metadata": {},
   "outputs": [],
   "source": []
  },
  {
   "cell_type": "markdown",
   "id": "ed1ca6df-a6d7-476f-aa69-bd666217fb4f",
   "metadata": {},
   "source": [
    "### So the above table gives the comparision value Table"
   ]
  },
  {
   "cell_type": "markdown",
   "id": "4aeb4555-e47b-4565-91cd-b82130b350c3",
   "metadata": {},
   "source": [
    "### 3. What motivated people to apply for non-major courses?"
   ]
  },
  {
   "cell_type": "markdown",
   "id": "9142847a-fe7c-4bd8-9699-ac5ee068d893",
   "metadata": {},
   "source": [
    "##### Subsetting the needed columns"
   ]
  },
  {
   "cell_type": "code",
   "execution_count": 90,
   "id": "e944a2b8-52c2-4039-8440-0ac2ef444ca2",
   "metadata": {},
   "outputs": [],
   "source": [
    "q3 = n[['What motivated you to seek a computing class at CCM? [It’s a required class for the degree I’m seeking]',\n",
    "       'What motivated you to seek a computing class at CCM? [To keep current in computing skills]',\n",
    "       'What motivated you to seek a computing class at CCM? [Career Advancement]',\n",
    "       'What motivated you to seek a computing class at CCM? [Career Change]',\n",
    "       'What motivated you to seek a computing class at CCM? [Professional Development]',\n",
    "       'What motivated you to seek a computing class at CCM? [Job Displacement]',\n",
    "       'What motivated you to seek a computing class at CCM? [Relocation]',\n",
    "       'What motivated you to seek a computing class at CCM? [IT Industry Certifications]',\n",
    "       'What motivated you to seek a computing class at CCM? [Financial]',\n",
    "       'What motivated you to seek a computing class at CCM? [Personal Enrichment]',\n",
    "       'What motivated you to seek a computing class at CCM? [Curiosity]']]"
   ]
  },
  {
   "cell_type": "markdown",
   "id": "1328ed41-88ed-4c67-beb2-933c86ba3e54",
   "metadata": {},
   "source": [
    "##### Renaming the columns by the values inside the []"
   ]
  },
  {
   "cell_type": "code",
   "execution_count": 93,
   "id": "fad0e3f0-64cd-4071-8367-fa05c81a0fbf",
   "metadata": {},
   "outputs": [],
   "source": [
    "q3 = q3.rename(columns = {\"What motivated you to seek a computing class at CCM? [It’s a required class for the degree I’m seeking]\":\"It’s a required class for the degree I’m seeking\",\n",
    "       'What motivated you to seek a computing class at CCM? [To keep current in computing skills]':'To keep current in computing skills',\n",
    "       'What motivated you to seek a computing class at CCM? [Career Advancement]':'Career Advancement',\n",
    "       'What motivated you to seek a computing class at CCM? [Career Change]':'Career Change',\n",
    "       'What motivated you to seek a computing class at CCM? [Professional Development]':'Professional Development',\n",
    "       'What motivated you to seek a computing class at CCM? [Job Displacement]':'Job Displacement',\n",
    "       'What motivated you to seek a computing class at CCM? [Relocation]':'Relocation',\n",
    "       'What motivated you to seek a computing class at CCM? [IT Industry Certifications]':'IT Industry Certifications',\n",
    "       'What motivated you to seek a computing class at CCM? [Financial]':'Financial',\n",
    "       'What motivated you to seek a computing class at CCM? [Personal Enrichment]':'Personal Enrichment',\n",
    "       'What motivated you to seek a computing class at CCM? [Curiosity]':'Curiosity'})"
   ]
  },
  {
   "cell_type": "markdown",
   "id": "18d31ca5-a96b-4766-a9e2-eb58b13c80f3",
   "metadata": {},
   "source": [
    "##### Using the Count"
   ]
  },
  {
   "cell_type": "code",
   "execution_count": 96,
   "id": "cb174eae-2e20-4994-bab3-4daed576e21c",
   "metadata": {},
   "outputs": [
    {
     "data": {
      "text/html": [
       "<div>\n",
       "<style scoped>\n",
       "    .dataframe tbody tr th:only-of-type {\n",
       "        vertical-align: middle;\n",
       "    }\n",
       "\n",
       "    .dataframe tbody tr th {\n",
       "        vertical-align: top;\n",
       "    }\n",
       "\n",
       "    .dataframe thead th {\n",
       "        text-align: right;\n",
       "    }\n",
       "</style>\n",
       "<table border=\"1\" class=\"dataframe\">\n",
       "  <thead>\n",
       "    <tr style=\"text-align: right;\">\n",
       "      <th></th>\n",
       "      <th>It’s a required class for the degree I’m seeking</th>\n",
       "      <th>To keep current in computing skills</th>\n",
       "      <th>Career Advancement</th>\n",
       "      <th>Career Change</th>\n",
       "      <th>Professional Development</th>\n",
       "      <th>Job Displacement</th>\n",
       "      <th>Relocation</th>\n",
       "      <th>IT Industry Certifications</th>\n",
       "      <th>Financial</th>\n",
       "      <th>Personal Enrichment</th>\n",
       "      <th>Curiosity</th>\n",
       "    </tr>\n",
       "  </thead>\n",
       "  <tbody>\n",
       "    <tr>\n",
       "      <th>No</th>\n",
       "      <td>10</td>\n",
       "      <td>22</td>\n",
       "      <td>38</td>\n",
       "      <td>74</td>\n",
       "      <td>27</td>\n",
       "      <td>71</td>\n",
       "      <td>83</td>\n",
       "      <td>89</td>\n",
       "      <td>72</td>\n",
       "      <td>44</td>\n",
       "      <td>45</td>\n",
       "    </tr>\n",
       "    <tr>\n",
       "      <th>Yes</th>\n",
       "      <td>82</td>\n",
       "      <td>70</td>\n",
       "      <td>54</td>\n",
       "      <td>18</td>\n",
       "      <td>65</td>\n",
       "      <td>21</td>\n",
       "      <td>9</td>\n",
       "      <td>3</td>\n",
       "      <td>20</td>\n",
       "      <td>48</td>\n",
       "      <td>47</td>\n",
       "    </tr>\n",
       "  </tbody>\n",
       "</table>\n",
       "</div>"
      ],
      "text/plain": [
       "     It’s a required class for the degree I’m seeking  \\\n",
       "No                                                 10   \n",
       "Yes                                                82   \n",
       "\n",
       "     To keep current in computing skills  Career Advancement  Career Change  \\\n",
       "No                                    22                  38             74   \n",
       "Yes                                   70                  54             18   \n",
       "\n",
       "     Professional Development  Job Displacement  Relocation  \\\n",
       "No                         27                71          83   \n",
       "Yes                        65                21           9   \n",
       "\n",
       "     IT Industry Certifications  Financial  Personal Enrichment  Curiosity  \n",
       "No                           89         72                   44         45  \n",
       "Yes                           3         20                   48         47  "
      ]
     },
     "execution_count": 96,
     "metadata": {},
     "output_type": "execute_result"
    }
   ],
   "source": [
    "q3.apply(pd.Series.value_counts)"
   ]
  },
  {
   "cell_type": "code",
   "execution_count": 98,
   "id": "f71dc2b7-5942-42dc-a59f-19ac0659b24b",
   "metadata": {},
   "outputs": [],
   "source": [
    "t3 = q3.apply(pd.Series.value_counts)"
   ]
  },
  {
   "cell_type": "code",
   "execution_count": 100,
   "id": "9e16eeae-ed1a-4c33-9b08-3e96c7989e3d",
   "metadata": {},
   "outputs": [
    {
     "data": {
      "text/html": [
       "<div>\n",
       "<style scoped>\n",
       "    .dataframe tbody tr th:only-of-type {\n",
       "        vertical-align: middle;\n",
       "    }\n",
       "\n",
       "    .dataframe tbody tr th {\n",
       "        vertical-align: top;\n",
       "    }\n",
       "\n",
       "    .dataframe thead th {\n",
       "        text-align: right;\n",
       "    }\n",
       "</style>\n",
       "<table border=\"1\" class=\"dataframe\">\n",
       "  <thead>\n",
       "    <tr style=\"text-align: right;\">\n",
       "      <th></th>\n",
       "      <th>It’s a required class for the degree I’m seeking</th>\n",
       "      <th>To keep current in computing skills</th>\n",
       "      <th>Career Advancement</th>\n",
       "      <th>Career Change</th>\n",
       "      <th>Professional Development</th>\n",
       "      <th>Job Displacement</th>\n",
       "      <th>Relocation</th>\n",
       "      <th>IT Industry Certifications</th>\n",
       "      <th>Financial</th>\n",
       "      <th>Personal Enrichment</th>\n",
       "      <th>Curiosity</th>\n",
       "    </tr>\n",
       "  </thead>\n",
       "  <tbody>\n",
       "    <tr>\n",
       "      <th>No</th>\n",
       "      <td>10</td>\n",
       "      <td>22</td>\n",
       "      <td>38</td>\n",
       "      <td>74</td>\n",
       "      <td>27</td>\n",
       "      <td>71</td>\n",
       "      <td>83</td>\n",
       "      <td>89</td>\n",
       "      <td>72</td>\n",
       "      <td>44</td>\n",
       "      <td>45</td>\n",
       "    </tr>\n",
       "    <tr>\n",
       "      <th>Yes</th>\n",
       "      <td>82</td>\n",
       "      <td>70</td>\n",
       "      <td>54</td>\n",
       "      <td>18</td>\n",
       "      <td>65</td>\n",
       "      <td>21</td>\n",
       "      <td>9</td>\n",
       "      <td>3</td>\n",
       "      <td>20</td>\n",
       "      <td>48</td>\n",
       "      <td>47</td>\n",
       "    </tr>\n",
       "  </tbody>\n",
       "</table>\n",
       "</div>"
      ],
      "text/plain": [
       "     It’s a required class for the degree I’m seeking  \\\n",
       "No                                                 10   \n",
       "Yes                                                82   \n",
       "\n",
       "     To keep current in computing skills  Career Advancement  Career Change  \\\n",
       "No                                    22                  38             74   \n",
       "Yes                                   70                  54             18   \n",
       "\n",
       "     Professional Development  Job Displacement  Relocation  \\\n",
       "No                         27                71          83   \n",
       "Yes                        65                21           9   \n",
       "\n",
       "     IT Industry Certifications  Financial  Personal Enrichment  Curiosity  \n",
       "No                           89         72                   44         45  \n",
       "Yes                           3         20                   48         47  "
      ]
     },
     "execution_count": 100,
     "metadata": {},
     "output_type": "execute_result"
    }
   ],
   "source": [
    "t3"
   ]
  },
  {
   "cell_type": "markdown",
   "id": "559202db-4597-40b9-90c8-3d8c92926f13",
   "metadata": {},
   "source": [
    "### The result is shown in the above table is the value counts that are given by the subsetted columns"
   ]
  },
  {
   "cell_type": "code",
   "execution_count": 103,
   "id": "e1cf357d-a1dc-4452-b4b4-c28d1487e01a",
   "metadata": {},
   "outputs": [],
   "source": [
    "n3 = t3.T"
   ]
  },
  {
   "cell_type": "code",
   "execution_count": 105,
   "id": "89505ce1-1aa7-42b7-840a-d613bf7aeccb",
   "metadata": {},
   "outputs": [],
   "source": [
    "n3 = n3.reset_index()"
   ]
  },
  {
   "cell_type": "code",
   "execution_count": 107,
   "id": "44c7c09d-d8bf-4d89-ab14-7d5e66701fab",
   "metadata": {},
   "outputs": [],
   "source": [
    "n3 = n3.sort_values(by='Yes')"
   ]
  },
  {
   "cell_type": "code",
   "execution_count": 109,
   "id": "ac1e759a-204b-4ac8-a592-69c7c94987b8",
   "metadata": {},
   "outputs": [
    {
     "data": {
      "text/html": [
       "<div>\n",
       "<style scoped>\n",
       "    .dataframe tbody tr th:only-of-type {\n",
       "        vertical-align: middle;\n",
       "    }\n",
       "\n",
       "    .dataframe tbody tr th {\n",
       "        vertical-align: top;\n",
       "    }\n",
       "\n",
       "    .dataframe thead th {\n",
       "        text-align: right;\n",
       "    }\n",
       "</style>\n",
       "<table border=\"1\" class=\"dataframe\">\n",
       "  <thead>\n",
       "    <tr style=\"text-align: right;\">\n",
       "      <th></th>\n",
       "      <th>index</th>\n",
       "      <th>No</th>\n",
       "      <th>Yes</th>\n",
       "    </tr>\n",
       "  </thead>\n",
       "  <tbody>\n",
       "    <tr>\n",
       "      <th>7</th>\n",
       "      <td>IT Industry Certifications</td>\n",
       "      <td>89</td>\n",
       "      <td>3</td>\n",
       "    </tr>\n",
       "    <tr>\n",
       "      <th>6</th>\n",
       "      <td>Relocation</td>\n",
       "      <td>83</td>\n",
       "      <td>9</td>\n",
       "    </tr>\n",
       "    <tr>\n",
       "      <th>3</th>\n",
       "      <td>Career Change</td>\n",
       "      <td>74</td>\n",
       "      <td>18</td>\n",
       "    </tr>\n",
       "    <tr>\n",
       "      <th>8</th>\n",
       "      <td>Financial</td>\n",
       "      <td>72</td>\n",
       "      <td>20</td>\n",
       "    </tr>\n",
       "    <tr>\n",
       "      <th>5</th>\n",
       "      <td>Job Displacement</td>\n",
       "      <td>71</td>\n",
       "      <td>21</td>\n",
       "    </tr>\n",
       "    <tr>\n",
       "      <th>10</th>\n",
       "      <td>Curiosity</td>\n",
       "      <td>45</td>\n",
       "      <td>47</td>\n",
       "    </tr>\n",
       "    <tr>\n",
       "      <th>9</th>\n",
       "      <td>Personal Enrichment</td>\n",
       "      <td>44</td>\n",
       "      <td>48</td>\n",
       "    </tr>\n",
       "    <tr>\n",
       "      <th>2</th>\n",
       "      <td>Career Advancement</td>\n",
       "      <td>38</td>\n",
       "      <td>54</td>\n",
       "    </tr>\n",
       "    <tr>\n",
       "      <th>4</th>\n",
       "      <td>Professional Development</td>\n",
       "      <td>27</td>\n",
       "      <td>65</td>\n",
       "    </tr>\n",
       "    <tr>\n",
       "      <th>1</th>\n",
       "      <td>To keep current in computing skills</td>\n",
       "      <td>22</td>\n",
       "      <td>70</td>\n",
       "    </tr>\n",
       "    <tr>\n",
       "      <th>0</th>\n",
       "      <td>It’s a required class for the degree I’m seeking</td>\n",
       "      <td>10</td>\n",
       "      <td>82</td>\n",
       "    </tr>\n",
       "  </tbody>\n",
       "</table>\n",
       "</div>"
      ],
      "text/plain": [
       "                                               index  No  Yes\n",
       "7                         IT Industry Certifications  89    3\n",
       "6                                         Relocation  83    9\n",
       "3                                      Career Change  74   18\n",
       "8                                          Financial  72   20\n",
       "5                                   Job Displacement  71   21\n",
       "10                                         Curiosity  45   47\n",
       "9                                Personal Enrichment  44   48\n",
       "2                                 Career Advancement  38   54\n",
       "4                           Professional Development  27   65\n",
       "1                To keep current in computing skills  22   70\n",
       "0   It’s a required class for the degree I’m seeking  10   82"
      ]
     },
     "execution_count": 109,
     "metadata": {},
     "output_type": "execute_result"
    }
   ],
   "source": [
    "n3"
   ]
  },
  {
   "cell_type": "code",
   "execution_count": 111,
   "id": "e5567b56-a628-4890-a8e9-7d4328dcccb7",
   "metadata": {},
   "outputs": [],
   "source": [
    "#What motivated people to apply for non-major courses?"
   ]
  },
  {
   "cell_type": "code",
   "execution_count": 113,
   "id": "06993ac8-3501-424e-8f35-23d6b899aedb",
   "metadata": {},
   "outputs": [
    {
     "data": {
      "image/png": "[encoded data removed]",
      "text/plain": [
       "<Figure size 1000x600 with 1 Axes>"
      ]
     },
     "metadata": {},
     "output_type": "display_data"
    }
   ],
   "source": [
    "x3 = n3['index'].to_numpy()\n",
    "y3 = n3['Yes'].to_numpy()\n",
    "plt.figure(figsize=(10, 6))\n",
    "plt.title(\"What motivated people to apply for non-major courses?\", fontsize=16)\n",
    "plt.xlabel(\"Number of Yes Responses\", fontsize=12)\n",
    "plt.ylabel(\"Reason\", fontsize=12)\n",
    "plt.xticks(rotation=45, ha='right')\n",
    "bars = plt.barh(x3,y3,color='skyblue', edgecolor='black')\n",
    "for bar in bars:\n",
    "    plt.text(\n",
    "        bar.get_width() + 1,  # X-coordinate (to the right of the bar)\n",
    "        bar.get_y() + bar.get_height()/2,  # Y-coordinate (centered on the bar)\n",
    "        f'{int(bar.get_width())}',  # Text to display\n",
    "        ha='left', va='center', fontsize=10\n",
    "    )\n",
    "threshold = 60\n",
    "for tick_label, value in zip(plt.gca().get_yticklabels(), y3):\n",
    "    if value > threshold:\n",
    "        tick_label.set_color('green')  # Change to any color for low values\n",
    "    else:\n",
    "        tick_label.set_color('black')  # Default color for others\n"
   ]
  },
  {
   "cell_type": "code",
   "execution_count": null,
   "id": "09352a46-68d6-4b6d-8904-5fc48efc4531",
   "metadata": {},
   "outputs": [],
   "source": []
  },
  {
   "cell_type": "code",
   "execution_count": null,
   "id": "1e259b71-48a1-494c-b664-0df7d1e1a2b7",
   "metadata": {},
   "outputs": [],
   "source": []
  },
  {
   "cell_type": "code",
   "execution_count": null,
   "id": "7e3fc077-a42e-4a79-9a80-8f78ef0a07a1",
   "metadata": {},
   "outputs": [],
   "source": []
  },
  {
   "cell_type": "code",
   "execution_count": null,
   "id": "91c8070b-6b35-4b11-9ca4-e872922ad470",
   "metadata": {},
   "outputs": [],
   "source": []
  }
 ],
 "metadata": {
  "kernelspec": {
   "display_name": "Python 3 (ipykernel)",
   "language": "python",
   "name": "python3"
  },
  "language_info": {
   "codemirror_mode": {
    "name": "ipython",
    "version": 3
   },
   "file_extension": ".py",
   "mimetype": "text/x-python",
   "name": "python",
   "nbconvert_exporter": "python",
   "pygments_lexer": "ipython3",
   "version": "3.12.7"
  }
 },
 "nbformat": 4,
 "nbformat_minor": 5
}
